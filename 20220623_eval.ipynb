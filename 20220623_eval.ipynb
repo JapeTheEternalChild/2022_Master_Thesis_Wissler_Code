{
 "cells": [
  {
   "cell_type": "markdown",
   "metadata": {
    "id": "ofvADCs5VwBV",
    "tags": []
   },
   "source": [
    "## Import Libraries\n"
   ]
  },
  {
   "cell_type": "code",
   "execution_count": 1,
   "metadata": {
    "colab": {
     "base_uri": "https://localhost:8080/",
     "height": 123
    },
    "executionInfo": {
     "elapsed": 909,
     "status": "ok",
     "timestamp": 1651043247397,
     "user": {
      "displayName": "Joaquin Patrice Sanders",
      "userId": "06008960534767443576"
     },
     "user_tz": -120
    },
    "id": "-ZHsjpKDVZQy",
    "outputId": "579fbca9-df04-42f8-e441-ebe9e0ef0e19"
   },
   "outputs": [
    {
     "name": "stdout",
     "output_type": "stream",
     "text": [
      "/pfs/data5/home/kit/stud/updzl\n"
     ]
    },
    {
     "data": {
      "image/png": "[encoded data removed]",
      "text/plain": [
       "<Figure size 1080x72 with 1 Axes>"
      ]
     },
     "metadata": {},
     "output_type": "display_data"
    }
   ],
   "source": [
    "###\n",
    "# Ralf Loritz 15.2.2022\n",
    "# Rainfall-runoff using LSTM Models\n",
    "# Pytorch\n",
    "###\n",
    "%load_ext autoreload\n",
    "%autoreload 2 #Reload all modules every time before executing the Python code typed.\n",
    "\n",
    "# built-in\n",
    "import os\n",
    "import importlib\n",
    "import math\n",
    "import datetime\n",
    "\n",
    "###\n",
    "# addtional packages\n",
    "import pandas as pd \n",
    "import numpy as np\n",
    "import matplotlib.pyplot as plt\n",
    "import seaborn as sns\n",
    "import scipy.stats as stats\n",
    "\n",
    "# import pytorch\n",
    "import torch\n",
    "from torch import nn, optim\n",
    "import torch.nn.functional as F\n",
    "import torch.utils.data as data_utils\n",
    "\n",
    "from torch.utils.data import Dataset\n",
    "from torch.utils.data import DataLoader\n",
    "\n",
    "# set torch seed\n",
    "#torch.manual_seed(42)\n",
    "\n",
    "# import from sklearn\n",
    "from sklearn.preprocessing import MinMaxScaler, StandardScaler, MaxAbsScaler, RobustScaler\n",
    "\n",
    "###\n",
    "# set plot style seaborn\n",
    "sns.set_style(\"whitegrid\")\n",
    "\n",
    "# set colors\n",
    "current_palette = sns.color_palette(\"colorblind\", 15)\n",
    "sns.palplot(current_palette)\n",
    "# set workspcae\n",
    "os.chdir('./')\n",
    "print(os.getcwd())"
   ]
  },
  {
   "cell_type": "code",
   "execution_count": 2,
   "metadata": {
    "colab": {
     "base_uri": "https://localhost:8080/"
    },
    "executionInfo": {
     "elapsed": 23695,
     "status": "ok",
     "timestamp": 1651043271089,
     "user": {
      "displayName": "Joaquin Patrice Sanders",
      "userId": "06008960534767443576"
     },
     "user_tz": -120
    },
    "id": "wbhghowVWCy9",
    "outputId": "6ca4c7ec-7abe-49c1-c46f-91607f66c031"
   },
   "outputs": [
    {
     "name": "stdout",
     "output_type": "stream",
     "text": [
      "1\n",
      "Tesla V100-SXM2-32GB\n"
     ]
    }
   ],
   "source": [
    "#drive.mount('/content/drive')\n",
    "\n",
    "###\n",
    "# identify GPU\n",
    "print(torch.cuda.device_count())\n",
    "print(torch.cuda.get_device_name(0))\n",
    "# set cuda0 as GPU\n",
    "cuda0 = torch.device('cuda:0')\n",
    "cuda1 = torch.device('cuda:1')"
   ]
  },
  {
   "cell_type": "code",
   "execution_count": null,
   "metadata": {},
   "outputs": [],
   "source": []
  },
  {
   "cell_type": "markdown",
   "metadata": {
    "id": "oDD021yRM1Af",
    "tags": []
   },
   "source": [
    "## LSTM model\n"
   ]
  },
  {
   "cell_type": "code",
   "execution_count": 3,
   "metadata": {
    "executionInfo": {
     "elapsed": 4,
     "status": "ok",
     "timestamp": 1651043271090,
     "user": {
      "displayName": "Joaquin Patrice Sanders",
      "userId": "06008960534767443576"
     },
     "user_tz": -120
    },
    "id": "_wWbqwcSEhgn"
   },
   "outputs": [],
   "source": [
    "# 22.04.22 \n",
    "# LSTM model taken from Ralfs version 1.1\n",
    "# Reviewed by Jean-Paul 26.04.22\n",
    "\n",
    "\n",
    "class ShallowRegressionLSTM(nn.Module):                                                                       # define new class which inherits from the nn.Module                                           \n",
    "    def __init__(self, input_size, hidden_size, num_layer, drop_out):                                                   # define constructor, includes objects attributs which must be defined when instantiating given object\n",
    "        super().__init__()                                                                                    \n",
    "        self.input_size = input_size                                                                          # this is the number of features\n",
    "        self.hidden_size = hidden_size                                                                        # number of nodes per layer (identical layer size over ll layers, otherwise multiple attributes for hidden size )\n",
    "        self.num_layers = num_layer                                                                           # number of layers per instantiated nn.LSTM (1 here)\n",
    "        #self.drop_out = drop_out\n",
    "        \n",
    "        self.lstm_1 = nn.LSTM(input_size = input_size,\n",
    "                              hidden_size = hidden_size,\n",
    "                              batch_first = True,\n",
    "                              num_layers=num_layer,\n",
    "                              #drop_out = drop_out\n",
    "                             )\n",
    "        #self.lstm_2 = nn.LSTM(input_size = hidden_size,                                                       # input for the second layer is the output of the previous layer i.e. the hidden states of the previous layer (size=hiden_size)\n",
    "         #                     hidden_size = hidden_size,\n",
    "          #                    batch_first = True,\n",
    "           #                   num_layers=num_layer)\n",
    "            \n",
    "        self.dropout = torch.nn.Dropout(drop_out)                                                             # dropout layer for regualitation http://jmlr.org/papers/v15/srivastava14a.html\n",
    "        \n",
    "        \n",
    "        self.linear = nn.Linear(in_features=self.hidden_size,                                                 # linear or so called Dense-layer, which takes hidden states from previous layer (size=lstm_2(hidden_size)) as input and calculates an output (size=output_features) with linear transformation (y=W*x+b)\n",
    "                                out_features=1)                                                               # and calculates an output (size=output_features) with linear transformation (y=W*x+b)           \n",
    "\n",
    "        \n",
    "    def forward(self, x):\n",
    "        batch_size = x.shape[0]\n",
    "        # Initialize hidden state with zeros\n",
    "        h0 = torch.zeros(self.num_layers, batch_size, self.hidden_size).requires_grad_().to(cuda0)            # initial hidden_states with zeros, requires_grad let pytorch track operations on tensor, to(cuda0) moves tensor to your device (here: GPU)\n",
    "        #h1 = torch.zeros(self.num_layers, batch_size, self.hidden_size).requires_grad_().to(cuda0)            # initial cell states\n",
    "        \n",
    "        # initialize the cell state:\n",
    "        c0 = torch.zeros(self.num_layers, batch_size, self.hidden_size).requires_grad_().to(cuda0)\n",
    "        #c1 = torch.zeros(self.num_layers, batch_size, self.hidden_size).requires_grad_().to(cuda0)\n",
    "        \n",
    "        out, (hn_1, cn_1) = self.lstm_1(x, (h0.detach(), c0.detach()))                                        # out: batch_size, sequence_length, hidden_size; h_n & c_n: num_layers, hidden_size\n",
    "        #out = self.dropout(out)                                                                               # detach????\n",
    "        #out, (hn_2, cn_2) = self.lstm_2(out, (h1.detach(), c1.detach()))                                      \n",
    "        out = out[:,-1,:]                                                                                     # many to one / sequence to one\n",
    "        out = self.dropout(out)\n",
    "        out = self.linear(out)  # First dim of Hn is num_layers, which is set to 1 above.\n",
    "\n",
    "        return out, (hn_1.transpose(0,1), cn_1.transpose(0,1)),\n",
    "                    #(hn_2.transpose(0,1), cn_2.transpose(0,1)\n",
    "                    "
   ]
  },
  {
   "cell_type": "markdown",
   "metadata": {
    "id": "4K9mIVi7Wgi0",
    "tags": []
   },
   "source": [
    "## Functions & Objects\n"
   ]
  },
  {
   "cell_type": "code",
   "execution_count": 4,
   "metadata": {
    "executionInfo": {
     "elapsed": 5,
     "status": "ok",
     "timestamp": 1651043271090,
     "user": {
      "displayName": "Joaquin Patrice Sanders",
      "userId": "06008960534767443576"
     },
     "user_tz": -120
    },
    "id": "n2sW7xl4WfpC"
   },
   "outputs": [],
   "source": [
    "# Preprocessing etc.\n",
    "\n",
    "\n",
    "# Creates a training, validation and test data set\n",
    "# Check https://onlinelibrary.wiley.com/doi/abs/10.1029/2021WR031523 for split sampling approaches in hydrological modeling\n",
    "# Validation period is usually very small and is used to check the performance of the model during the training on a out-of-sample batch\n",
    "# to monitor evtl. overfitting\n",
    "def split_data(start_train, end_train, start_val, end_val, start_test, end_test, df):\n",
    "  ''' split data set into training period, validation period (for hyperparameter tuning) and independent test period.\n",
    "  periods should correlate with benchmark model. \n",
    "  input in date time format or any other indexing used in df(dataframe)'''\n",
    "  train = df.loc[start_train:end_train]\n",
    "  val = df.loc[start_val:end_val]\n",
    "  test = df.loc[start_test:end_test]\n",
    "  return train, val, test\n",
    "\n",
    "# Standardizes data for the network, to avoid scaling issues. Uses own metrics.\n",
    "def local_standartization(data):\n",
    "  ''' z-standartisation on the the all the data, statistic values taken from training period'''\n",
    "  stds = data.std()\n",
    "  mean = data.mean()\n",
    "  scaled_data = (data-mean)/stds\n",
    "  return scaled_data, stds, mean\n",
    "\n",
    "# Standartizes data for network with given metrics(from training data set)\n",
    "def scale(data, stds, mean):\n",
    "  scaled_data = (data-mean)/stds\n",
    "  return scaled_data\n",
    "\n",
    "# Performance metrics:\n",
    "# NSE function\n",
    "def get_nse(y_test, predictions):\n",
    "  assert len(y_test) == len(predictions)  \n",
    "  numerator = sum([(y_test[i]-predictions[i])**2 for i in range(len(y_test))])\n",
    "  y_test_avg = sum(y_test)/len(y_test)\n",
    "  denominator = sum([(y_test[i]-y_test_avg)**2 for i in range(len(y_test))])\n",
    "  NSE = 1- (numerator/denominator)\n",
    "  return NSE\n",
    "\n",
    "# KGE 2009\n",
    "def kge(simulations, evaluation):\n",
    "    \"\"\"Original Kling-Gupta Efficiency (KGE) and its three components\n",
    "    (r, α, β) as per `Gupta et al., 2009\n",
    "    <https://doi.org/10.1016/j.jhydrol.2009.08.003>`_.\n",
    "    Note, all four values KGE, r, α, β are returned, in this order.\n",
    "    :Calculation Details:\n",
    "        .. math::\n",
    "           E_{\\\\text{KGE}} = 1 - \\\\sqrt{[r - 1]^2 + [\\\\alpha - 1]^2\n",
    "           + [\\\\beta - 1]^2}\n",
    "        .. math::\n",
    "           r = \\\\frac{\\\\text{cov}(e, s)}{\\\\sigma({e}) \\\\cdot \\\\sigma(s)}\n",
    "        .. math::\n",
    "           \\\\alpha = \\\\frac{\\\\sigma(s)}{\\\\sigma(e)}\n",
    "        .. math::\n",
    "           \\\\beta = \\\\frac{\\\\mu(s)}{\\\\mu(e)}\n",
    "        where *e* is the *evaluation* series, *s* is (one of) the\n",
    "        *simulations* series, *cov* is the covariance, *σ* is the\n",
    "        standard deviation, and *μ* is the arithmetic mean.\n",
    "    \"\"\"\n",
    "    # calculate error in timing and dynamics r\n",
    "    # (Pearson's correlation coefficient)\n",
    "    sim_mean = np.mean(simulations, axis=0, dtype=np.float64)\n",
    "    obs_mean = np.mean(evaluation, dtype=np.float64)\n",
    "\n",
    "    r_num = np.sum((simulations - sim_mean) * (evaluation - obs_mean),\n",
    "                   axis=0, dtype=np.float64)\n",
    "    r_den = np.sqrt(np.sum((simulations - sim_mean) ** 2,\n",
    "                           axis=0, dtype=np.float64)\n",
    "                    * np.sum((evaluation - obs_mean) ** 2,\n",
    "                             dtype=np.float64))\n",
    "    r = r_num / r_den\n",
    "    # calculate error in spread of flow alpha\n",
    "    alpha = np.std(simulations, axis=0) / np.std(evaluation, dtype=np.float64)\n",
    "    # calculate error in volume beta (bias of mean discharge)\n",
    "    beta = (np.sum(simulations, axis=0, dtype=np.float64)\n",
    "            / np.sum(evaluation, dtype=np.float64))\n",
    "    # calculate the Kling-Gupta Efficiency KGE\n",
    "    kge_ = 1 - np.sqrt((r - 1) ** 2 + (alpha - 1) ** 2 + (beta - 1) ** 2)\n",
    "\n",
    "    return np.vstack((kge_, r, alpha, beta))\n",
    "\n",
    "# Takes pandas df and lists with strings which denote target and feature columns, as well as a desired sequence length.\n",
    "# inherits from pytorch Datafram function\n",
    "# outputs a list containing 2 tensors: 1 with features (including the respective sequence) and 1 with the corresponding target(label)\n",
    "class SequenceDataset(Dataset):\n",
    "    def __init__(self, dataframe, target, features, sequence_length=5):\n",
    "        self.features = features\n",
    "        self.target = target\n",
    "        self.sequence_length = sequence_length\n",
    "        self.y = torch.tensor(dataframe[target].values).to(cuda0).float()\n",
    "        self.X = torch.tensor(dataframe[features].values).to(cuda0).float()\n",
    "\n",
    "    def __len__(self):\n",
    "        return self.X.shape[0]\n",
    "\n",
    "    def __getitem__(self, i): \n",
    "        if i >= self.sequence_length - 1:\n",
    "            i_start = i - self.sequence_length + 1\n",
    "            x = self.X[i_start:(i + 1), :]\n",
    "        else:\n",
    "            padding = self.X[0].repeat(self.sequence_length - i - 1, 1)\n",
    "            x = self.X[0:(i + 1), :]\n",
    "            x = torch.cat((padding, x), 0)\n",
    "\n",
    "        return x, self.y[i]"
   ]
  },
  {
   "cell_type": "markdown",
   "metadata": {
    "id": "-w-Lc_0cWTWP",
    "tags": []
   },
   "source": [
    "## Import Data\n",
    "\n",
    "data handling and preprocessing will happen only with numpy arrays and/or panda dataframes<br>\n",
    "<br>\n",
    "pytorch framework uses an own class for numerical values --> tensors <br>\n",
    "torch.tensor includes a bunch of mathematical operations ranging from simple point to point operation to linear algebraic operations.<br>\n",
    "<br>\n",
    "however for simplicity and for the sake of overview for the timeseries the data is only converted after the preprocessing (slicing, standartization, etc.) into tensors which then are passed into the ANN models"
   ]
  },
  {
   "cell_type": "code",
   "execution_count": 5,
   "metadata": {
    "colab": {
     "base_uri": "https://localhost:8080/"
    },
    "executionInfo": {
     "elapsed": 16769,
     "status": "ok",
     "timestamp": 1651043287856,
     "user": {
      "displayName": "Joaquin Patrice Sanders",
      "userId": "06008960534767443576"
     },
     "user_tz": -120
    },
    "id": "fLVgWn6aWk50",
    "outputId": "b6138bc5-1556-415a-acc1-0111078d8938"
   },
   "outputs": [
    {
     "name": "stdout",
     "output_type": "stream",
     "text": [
      "Files found: ['HuewelerbachinclERA5.txt', 'SchwebichinclERA5.txt', '.ipynb_checkpoints', 'WeierbachinclERA5.txt', 'MierbechinclERA5.txt', 'BibeschbachinclERA5.txt']\n"
     ]
    }
   ],
   "source": [
    "# Create a drectory for  your datafiles which containes filenames \n",
    "data_directory = os.listdir(path='/pfs/data5/home/kit/stud/updzl/data')\n",
    "print('Files found: '+str(data_directory))\n",
    "data_directory.pop(2)\n",
    "# Define the current folder with the files \n",
    "os.chdir('/pfs/data5/home/kit/stud/updzl/data')\n",
    "# loop through the directory and load the dataframes directly into local memory. filenames become df names, the .replace method can\n",
    "# change those names. check the read_csv method for argumentexplanations, they differ on the strucutre of your data set \n",
    "# (header = line of column names etc.)\n",
    "for i in range(len(data_directory)):\n",
    "   locals()[str(data_directory[i]).replace('inclERA5.txt', '')]= pd.read_csv(str(data_directory[i]), header=0, parse_dates=[0], index_col =[0])"
   ]
  },
  {
   "cell_type": "code",
   "execution_count": 6,
   "metadata": {
    "colab": {
     "base_uri": "https://localhost:8080/",
     "height": 388
    },
    "executionInfo": {
     "elapsed": 1738,
     "status": "ok",
     "timestamp": 1651043289588,
     "user": {
      "displayName": "Joaquin Patrice Sanders",
      "userId": "06008960534767443576"
     },
     "user_tz": -120
    },
    "id": "zr7qy4LrVhZZ",
    "outputId": "39bfd785-7cfd-46eb-fd4f-c6a419576047"
   },
   "outputs": [
    {
     "data": {
      "text/html": [
       "<div>\n",
       "<style scoped>\n",
       "    .dataframe tbody tr th:only-of-type {\n",
       "        vertical-align: middle;\n",
       "    }\n",
       "\n",
       "    .dataframe tbody tr th {\n",
       "        vertical-align: top;\n",
       "    }\n",
       "\n",
       "    .dataframe thead th {\n",
       "        text-align: right;\n",
       "    }\n",
       "</style>\n",
       "<table border=\"1\" class=\"dataframe\">\n",
       "  <thead>\n",
       "    <tr style=\"text-align: right;\">\n",
       "      <th></th>\n",
       "      <th>P_Useldange</th>\n",
       "      <th>T_Useldange</th>\n",
       "      <th>Q_Schwebich</th>\n",
       "      <th>Q_flag</th>\n",
       "      <th>EVAP_Useldange</th>\n",
       "      <th>T_flag</th>\n",
       "      <th>InterRecka</th>\n",
       "      <th>InterKoeri</th>\n",
       "      <th>InterMamer</th>\n",
       "      <th>InterRoodt</th>\n",
       "      <th>...</th>\n",
       "      <th>q</th>\n",
       "      <th>rh</th>\n",
       "      <th>tcwv</th>\n",
       "      <th>windspeed</th>\n",
       "      <th>LLS</th>\n",
       "      <th>DLS</th>\n",
       "      <th>swvl1</th>\n",
       "      <th>swvl2</th>\n",
       "      <th>swvl3</th>\n",
       "      <th>swvl4</th>\n",
       "    </tr>\n",
       "    <tr>\n",
       "      <th>Date</th>\n",
       "      <th></th>\n",
       "      <th></th>\n",
       "      <th></th>\n",
       "      <th></th>\n",
       "      <th></th>\n",
       "      <th></th>\n",
       "      <th></th>\n",
       "      <th></th>\n",
       "      <th></th>\n",
       "      <th></th>\n",
       "      <th></th>\n",
       "      <th></th>\n",
       "      <th></th>\n",
       "      <th></th>\n",
       "      <th></th>\n",
       "      <th></th>\n",
       "      <th></th>\n",
       "      <th></th>\n",
       "      <th></th>\n",
       "      <th></th>\n",
       "      <th></th>\n",
       "    </tr>\n",
       "  </thead>\n",
       "  <tbody>\n",
       "    <tr>\n",
       "      <th>2004-10-01 00:00:00</th>\n",
       "      <td>0.0</td>\n",
       "      <td>11.5</td>\n",
       "      <td>0.003289</td>\n",
       "      <td>0</td>\n",
       "      <td>0.038750</td>\n",
       "      <td>0</td>\n",
       "      <td>0</td>\n",
       "      <td>0</td>\n",
       "      <td>0</td>\n",
       "      <td>0</td>\n",
       "      <td>...</td>\n",
       "      <td>0.003672</td>\n",
       "      <td>79.529410</td>\n",
       "      <td>21.871196</td>\n",
       "      <td>10.868925</td>\n",
       "      <td>7.200403</td>\n",
       "      <td>18.308258</td>\n",
       "      <td>0.289412</td>\n",
       "      <td>0.263291</td>\n",
       "      <td>0.261994</td>\n",
       "      <td>0.335555</td>\n",
       "    </tr>\n",
       "    <tr>\n",
       "      <th>2004-10-01 00:30:00</th>\n",
       "      <td>0.0</td>\n",
       "      <td>11.4</td>\n",
       "      <td>0.003289</td>\n",
       "      <td>0</td>\n",
       "      <td>0.038542</td>\n",
       "      <td>0</td>\n",
       "      <td>0</td>\n",
       "      <td>0</td>\n",
       "      <td>0</td>\n",
       "      <td>0</td>\n",
       "      <td>...</td>\n",
       "      <td>0.003476</td>\n",
       "      <td>77.245507</td>\n",
       "      <td>22.097770</td>\n",
       "      <td>10.624766</td>\n",
       "      <td>6.584422</td>\n",
       "      <td>18.712995</td>\n",
       "      <td>0.290061</td>\n",
       "      <td>0.263328</td>\n",
       "      <td>0.262002</td>\n",
       "      <td>0.335555</td>\n",
       "    </tr>\n",
       "    <tr>\n",
       "      <th>2004-10-01 01:00:00</th>\n",
       "      <td>0.0</td>\n",
       "      <td>11.3</td>\n",
       "      <td>0.003289</td>\n",
       "      <td>0</td>\n",
       "      <td>0.038333</td>\n",
       "      <td>0</td>\n",
       "      <td>0</td>\n",
       "      <td>0</td>\n",
       "      <td>0</td>\n",
       "      <td>0</td>\n",
       "      <td>...</td>\n",
       "      <td>0.003280</td>\n",
       "      <td>74.961605</td>\n",
       "      <td>22.324345</td>\n",
       "      <td>10.380607</td>\n",
       "      <td>5.968441</td>\n",
       "      <td>19.117732</td>\n",
       "      <td>0.290711</td>\n",
       "      <td>0.263364</td>\n",
       "      <td>0.262010</td>\n",
       "      <td>0.335555</td>\n",
       "    </tr>\n",
       "    <tr>\n",
       "      <th>2004-10-01 01:30:00</th>\n",
       "      <td>0.0</td>\n",
       "      <td>11.3</td>\n",
       "      <td>0.003289</td>\n",
       "      <td>0</td>\n",
       "      <td>0.038333</td>\n",
       "      <td>0</td>\n",
       "      <td>0</td>\n",
       "      <td>0</td>\n",
       "      <td>0</td>\n",
       "      <td>0</td>\n",
       "      <td>...</td>\n",
       "      <td>0.003150</td>\n",
       "      <td>69.677415</td>\n",
       "      <td>22.636840</td>\n",
       "      <td>10.340025</td>\n",
       "      <td>5.436880</td>\n",
       "      <td>18.972278</td>\n",
       "      <td>0.295335</td>\n",
       "      <td>0.263425</td>\n",
       "      <td>0.262018</td>\n",
       "      <td>0.335548</td>\n",
       "    </tr>\n",
       "    <tr>\n",
       "      <th>2004-10-01 02:00:00</th>\n",
       "      <td>0.0</td>\n",
       "      <td>11.3</td>\n",
       "      <td>0.003289</td>\n",
       "      <td>0</td>\n",
       "      <td>0.038333</td>\n",
       "      <td>0</td>\n",
       "      <td>0</td>\n",
       "      <td>0</td>\n",
       "      <td>0</td>\n",
       "      <td>0</td>\n",
       "      <td>...</td>\n",
       "      <td>0.003020</td>\n",
       "      <td>64.393225</td>\n",
       "      <td>22.949334</td>\n",
       "      <td>10.299443</td>\n",
       "      <td>4.905319</td>\n",
       "      <td>18.826824</td>\n",
       "      <td>0.299960</td>\n",
       "      <td>0.263486</td>\n",
       "      <td>0.262026</td>\n",
       "      <td>0.335540</td>\n",
       "    </tr>\n",
       "    <tr>\n",
       "      <th>...</th>\n",
       "      <td>...</td>\n",
       "      <td>...</td>\n",
       "      <td>...</td>\n",
       "      <td>...</td>\n",
       "      <td>...</td>\n",
       "      <td>...</td>\n",
       "      <td>...</td>\n",
       "      <td>...</td>\n",
       "      <td>...</td>\n",
       "      <td>...</td>\n",
       "      <td>...</td>\n",
       "      <td>...</td>\n",
       "      <td>...</td>\n",
       "      <td>...</td>\n",
       "      <td>...</td>\n",
       "      <td>...</td>\n",
       "      <td>...</td>\n",
       "      <td>...</td>\n",
       "      <td>...</td>\n",
       "      <td>...</td>\n",
       "      <td>...</td>\n",
       "    </tr>\n",
       "    <tr>\n",
       "      <th>2021-08-31 21:30:00</th>\n",
       "      <td>0.0</td>\n",
       "      <td>11.7</td>\n",
       "      <td>0.003630</td>\n",
       "      <td>0</td>\n",
       "      <td>0.057292</td>\n",
       "      <td>0</td>\n",
       "      <td>0</td>\n",
       "      <td>0</td>\n",
       "      <td>0</td>\n",
       "      <td>0</td>\n",
       "      <td>...</td>\n",
       "      <td>0.001662</td>\n",
       "      <td>28.650982</td>\n",
       "      <td>16.843666</td>\n",
       "      <td>10.036747</td>\n",
       "      <td>5.938585</td>\n",
       "      <td>12.699160</td>\n",
       "      <td>0.343970</td>\n",
       "      <td>0.347823</td>\n",
       "      <td>0.357567</td>\n",
       "      <td>0.379387</td>\n",
       "    </tr>\n",
       "    <tr>\n",
       "      <th>2021-08-31 22:00:00</th>\n",
       "      <td>0.0</td>\n",
       "      <td>10.8</td>\n",
       "      <td>0.003421</td>\n",
       "      <td>0</td>\n",
       "      <td>0.054167</td>\n",
       "      <td>0</td>\n",
       "      <td>0</td>\n",
       "      <td>0</td>\n",
       "      <td>0</td>\n",
       "      <td>0</td>\n",
       "      <td>...</td>\n",
       "      <td>0.001751</td>\n",
       "      <td>30.578195</td>\n",
       "      <td>17.154819</td>\n",
       "      <td>10.457367</td>\n",
       "      <td>6.118375</td>\n",
       "      <td>12.379778</td>\n",
       "      <td>0.343963</td>\n",
       "      <td>0.347823</td>\n",
       "      <td>0.357558</td>\n",
       "      <td>0.379379</td>\n",
       "    </tr>\n",
       "    <tr>\n",
       "      <th>2021-08-31 22:30:00</th>\n",
       "      <td>0.0</td>\n",
       "      <td>10.6</td>\n",
       "      <td>0.003313</td>\n",
       "      <td>0</td>\n",
       "      <td>0.053333</td>\n",
       "      <td>0</td>\n",
       "      <td>0</td>\n",
       "      <td>0</td>\n",
       "      <td>0</td>\n",
       "      <td>0</td>\n",
       "      <td>...</td>\n",
       "      <td>0.001743</td>\n",
       "      <td>30.532430</td>\n",
       "      <td>17.203814</td>\n",
       "      <td>10.638971</td>\n",
       "      <td>5.975072</td>\n",
       "      <td>12.025004</td>\n",
       "      <td>0.343955</td>\n",
       "      <td>0.347808</td>\n",
       "      <td>0.357551</td>\n",
       "      <td>0.379379</td>\n",
       "    </tr>\n",
       "    <tr>\n",
       "      <th>2021-08-31 23:00:00</th>\n",
       "      <td>0.0</td>\n",
       "      <td>10.1</td>\n",
       "      <td>0.003313</td>\n",
       "      <td>0</td>\n",
       "      <td>0.051667</td>\n",
       "      <td>0</td>\n",
       "      <td>0</td>\n",
       "      <td>0</td>\n",
       "      <td>0</td>\n",
       "      <td>0</td>\n",
       "      <td>...</td>\n",
       "      <td>0.001735</td>\n",
       "      <td>30.486665</td>\n",
       "      <td>17.252808</td>\n",
       "      <td>10.820574</td>\n",
       "      <td>5.831769</td>\n",
       "      <td>11.670229</td>\n",
       "      <td>0.343947</td>\n",
       "      <td>0.347792</td>\n",
       "      <td>0.357544</td>\n",
       "      <td>0.379379</td>\n",
       "    </tr>\n",
       "    <tr>\n",
       "      <th>2021-08-31 23:30:00</th>\n",
       "      <td>0.0</td>\n",
       "      <td>9.5</td>\n",
       "      <td>0.003277</td>\n",
       "      <td>0</td>\n",
       "      <td>0.049583</td>\n",
       "      <td>0</td>\n",
       "      <td>0</td>\n",
       "      <td>0</td>\n",
       "      <td>0</td>\n",
       "      <td>0</td>\n",
       "      <td>...</td>\n",
       "      <td>0.001735</td>\n",
       "      <td>30.486665</td>\n",
       "      <td>17.252808</td>\n",
       "      <td>10.820574</td>\n",
       "      <td>5.831769</td>\n",
       "      <td>11.670229</td>\n",
       "      <td>0.343947</td>\n",
       "      <td>0.347792</td>\n",
       "      <td>0.357544</td>\n",
       "      <td>0.379379</td>\n",
       "    </tr>\n",
       "  </tbody>\n",
       "</table>\n",
       "<p>296558 rows × 24 columns</p>\n",
       "</div>"
      ],
      "text/plain": [
       "                     P_Useldange  T_Useldange  Q_Schwebich  Q_flag  \\\n",
       "Date                                                                 \n",
       "2004-10-01 00:00:00          0.0         11.5     0.003289       0   \n",
       "2004-10-01 00:30:00          0.0         11.4     0.003289       0   \n",
       "2004-10-01 01:00:00          0.0         11.3     0.003289       0   \n",
       "2004-10-01 01:30:00          0.0         11.3     0.003289       0   \n",
       "2004-10-01 02:00:00          0.0         11.3     0.003289       0   \n",
       "...                          ...          ...          ...     ...   \n",
       "2021-08-31 21:30:00          0.0         11.7     0.003630       0   \n",
       "2021-08-31 22:00:00          0.0         10.8     0.003421       0   \n",
       "2021-08-31 22:30:00          0.0         10.6     0.003313       0   \n",
       "2021-08-31 23:00:00          0.0         10.1     0.003313       0   \n",
       "2021-08-31 23:30:00          0.0          9.5     0.003277       0   \n",
       "\n",
       "                     EVAP_Useldange  T_flag  InterRecka  InterKoeri  \\\n",
       "Date                                                                  \n",
       "2004-10-01 00:00:00        0.038750       0           0           0   \n",
       "2004-10-01 00:30:00        0.038542       0           0           0   \n",
       "2004-10-01 01:00:00        0.038333       0           0           0   \n",
       "2004-10-01 01:30:00        0.038333       0           0           0   \n",
       "2004-10-01 02:00:00        0.038333       0           0           0   \n",
       "...                             ...     ...         ...         ...   \n",
       "2021-08-31 21:30:00        0.057292       0           0           0   \n",
       "2021-08-31 22:00:00        0.054167       0           0           0   \n",
       "2021-08-31 22:30:00        0.053333       0           0           0   \n",
       "2021-08-31 23:00:00        0.051667       0           0           0   \n",
       "2021-08-31 23:30:00        0.049583       0           0           0   \n",
       "\n",
       "                     InterMamer  InterRoodt  ...         q         rh  \\\n",
       "Date                                         ...                        \n",
       "2004-10-01 00:00:00           0           0  ...  0.003672  79.529410   \n",
       "2004-10-01 00:30:00           0           0  ...  0.003476  77.245507   \n",
       "2004-10-01 01:00:00           0           0  ...  0.003280  74.961605   \n",
       "2004-10-01 01:30:00           0           0  ...  0.003150  69.677415   \n",
       "2004-10-01 02:00:00           0           0  ...  0.003020  64.393225   \n",
       "...                         ...         ...  ...       ...        ...   \n",
       "2021-08-31 21:30:00           0           0  ...  0.001662  28.650982   \n",
       "2021-08-31 22:00:00           0           0  ...  0.001751  30.578195   \n",
       "2021-08-31 22:30:00           0           0  ...  0.001743  30.532430   \n",
       "2021-08-31 23:00:00           0           0  ...  0.001735  30.486665   \n",
       "2021-08-31 23:30:00           0           0  ...  0.001735  30.486665   \n",
       "\n",
       "                          tcwv  windspeed       LLS        DLS     swvl1  \\\n",
       "Date                                                                       \n",
       "2004-10-01 00:00:00  21.871196  10.868925  7.200403  18.308258  0.289412   \n",
       "2004-10-01 00:30:00  22.097770  10.624766  6.584422  18.712995  0.290061   \n",
       "2004-10-01 01:00:00  22.324345  10.380607  5.968441  19.117732  0.290711   \n",
       "2004-10-01 01:30:00  22.636840  10.340025  5.436880  18.972278  0.295335   \n",
       "2004-10-01 02:00:00  22.949334  10.299443  4.905319  18.826824  0.299960   \n",
       "...                        ...        ...       ...        ...       ...   \n",
       "2021-08-31 21:30:00  16.843666  10.036747  5.938585  12.699160  0.343970   \n",
       "2021-08-31 22:00:00  17.154819  10.457367  6.118375  12.379778  0.343963   \n",
       "2021-08-31 22:30:00  17.203814  10.638971  5.975072  12.025004  0.343955   \n",
       "2021-08-31 23:00:00  17.252808  10.820574  5.831769  11.670229  0.343947   \n",
       "2021-08-31 23:30:00  17.252808  10.820574  5.831769  11.670229  0.343947   \n",
       "\n",
       "                        swvl2     swvl3     swvl4  \n",
       "Date                                               \n",
       "2004-10-01 00:00:00  0.263291  0.261994  0.335555  \n",
       "2004-10-01 00:30:00  0.263328  0.262002  0.335555  \n",
       "2004-10-01 01:00:00  0.263364  0.262010  0.335555  \n",
       "2004-10-01 01:30:00  0.263425  0.262018  0.335548  \n",
       "2004-10-01 02:00:00  0.263486  0.262026  0.335540  \n",
       "...                       ...       ...       ...  \n",
       "2021-08-31 21:30:00  0.347823  0.357567  0.379387  \n",
       "2021-08-31 22:00:00  0.347823  0.357558  0.379379  \n",
       "2021-08-31 22:30:00  0.347808  0.357551  0.379379  \n",
       "2021-08-31 23:00:00  0.347792  0.357544  0.379379  \n",
       "2021-08-31 23:30:00  0.347792  0.357544  0.379379  \n",
       "\n",
       "[296558 rows x 24 columns]"
      ]
     },
     "execution_count": 6,
     "metadata": {},
     "output_type": "execute_result"
    }
   ],
   "source": [
    "catchment = Schwebich\n",
    "catchment"
   ]
  },
  {
   "cell_type": "markdown",
   "metadata": {
    "id": "MaLByN7VKzw2",
    "tags": []
   },
   "source": [
    "# Hyperparameters"
   ]
  },
  {
   "cell_type": "code",
   "execution_count": 7,
   "metadata": {
    "executionInfo": {
     "elapsed": 7,
     "status": "ok",
     "timestamp": 1651043289588,
     "user": {
      "displayName": "Joaquin Patrice Sanders",
      "userId": "06008960534767443576"
     },
     "user_tz": -120
    },
    "id": "YFYWDuXmK3u1"
   },
   "outputs": [],
   "source": [
    "# Define Hyperparameters in dictionary \n",
    "# check http://arxiv.org/abs/1206.5533 for a comrehensive overview over the different hyperparameters involved and their impact\n",
    "\n",
    "model_params = {\n",
    "  \"batch_size\": 512,\n",
    "  \"sequence_length\": 512,\n",
    "  \"hidden_size\": 256,            # set hidden_size of model i.e. number of nodes per hidden layer\n",
    "  \"num_layer\":1,  \n",
    "  \"num_epochs\": 5,                # number of training epochs, start high and use the validation dataset after each epoch to check the performance metric \n",
    "                                # on an out of batch example, choose the number of epoch with the best validation performance and not the best training\n",
    "                                # performance\n",
    "  \"drop_out\": 0.6,              # set drop_out of model for regularization\n",
    "  \"learning_rate\": 0.0005,       # set learning rate which is responsible for how strongly the optimization algorithm adapts the model parameters after\n",
    "                                # a training epoch\n",
    "  \"loss\": torch.nn.MSELoss(),   # set loss function: regression task --> mean squared error, already defined in torch framework, possible to write own\n",
    "  \"set_forget_gate\": 3,  \n",
    "  \"adapt_learning_rate_epoch\": 1,\n",
    "  \"adapt_gamma_learning_rate\": 0.2,\n",
    "  \"swa_start\": 15,            # start stochastic weight averaging\n",
    "  \"swa_learning_rate\": 0.0001,\n",
    "  \"grad_clip\" : 'on',            # add gradient clipping\n",
    "  \"max_norm\" : 1,                #define max gradient\n",
    "}\n",
    "\n"
   ]
  },
  {
   "cell_type": "code",
   "execution_count": 8,
   "metadata": {
    "colab": {
     "base_uri": "https://localhost:8080/"
    },
    "executionInfo": {
     "elapsed": 10266,
     "status": "ok",
     "timestamp": 1651043622895,
     "user": {
      "displayName": "Joaquin Patrice Sanders",
      "userId": "06008960534767443576"
     },
     "user_tz": -120
    },
    "id": "qfVvePhs8Xn_",
    "outputId": "4280831b-326a-4048-8a96-f893234b4272"
   },
   "outputs": [
    {
     "name": "stdout",
     "output_type": "stream",
     "text": [
      "Bibeschbach dataset column names ['P_Roeser', 'T_Roeser', 'Q_Bibeschbach', 'q', 'LLS', 'swvl1', 'swvl2', 'swvl3']\n"
     ]
    }
   ],
   "source": [
    "# Define training and testing periods\n",
    "start_train = '2010-10-01 00:00:00'\n",
    "#start_train_dt = datetime.datetime.strptime(start_train, '%Y-%m-%d %H:%M:%S')\n",
    "end_train = '2021-09-30 23:30:00'\n",
    "start_val = '2009-10-01 00:00:00'\n",
    "#start_val_dt = datetime.datetime.strptime(start_val, '%Y-%m-%d %H:%M:%S')\n",
    "end_val = '2010-09-30 23:30:00'\n",
    "start_test = '2004-10-01 00:00:00'\n",
    "#start_test_dt = datetime.datetime.strptime(start_test, '%Y-%m-%d %H:%M:%S')\n",
    "end_test = '2010-09-30 00:00:00'\n",
    "#end_test_dt = datetime.datetime.strptime(end_test, '%Y-%m-%d %H:%M:%S')\n",
    "# Define catchment i.e. the dataframe of interest\n",
    "catchment = Bibeschbach\n",
    "catchment_str = 'Bibeschbach'\n",
    "experiment = 'A'\n",
    "\n",
    "\n",
    "\n",
    "\n",
    "# Adding additional data (i.e. rainfall) from neighbouring catchments (stations)\n",
    "#if catchment_str == 'Bibeschbach':\n",
    "  #neighbouring_catchment_A = Mierbech\n",
    "#  neighbouring_catchment_B = Schwebich\n",
    "if catchment_str == 'Huewelerbach':\n",
    "  neighbouring_catchment_A = Schwebich\n",
    "  neighbouring_catchment_B = Weierbach\n",
    "#elif catchment_str == 'Mierbech':\n",
    "#  neighbouring_catchment_A = Bibeschbach\n",
    "#  neighbouring_catchment_B = Schwebich\n",
    "elif catchment_str == 'Weierbach':\n",
    "  neighbouring_catchment_A = Huewelerbach\n",
    "  neighbouring_catchment_B = Schwebich\n",
    "elif catchment_str == 'Schwebich':\n",
    "  neighbouring_catchment_A = Huewelerbach\n",
    "  neighbouring_catchment_B = Weierbach\n",
    "#else:\n",
    "  #raise ValueError(catchment_str+' not found')\n",
    "\n",
    "#col_name_A = [col for col in neighbouring_catchment_A.columns if 'P_' in col]\n",
    "#col_name_B = [col for col in neighbouring_catchment_B.columns if 'P_' in col]\n",
    "#catchment[str(col_name_A[0])] = neighbouring_catchment_A[col_name_A[0]]\n",
    "#catchment[str(col_name_A[1])] = neighbouring_catchment_A[col_name_A[1]]\n",
    "#catchment[str(col_name_B[0])] = neighbouring_catchment_B[col_name_B[0]]\n",
    "#catchment[str(col_name_B[1])] = neighbouring_catchment_B[col_name_B[1]]\n",
    "\n",
    "# Drop excessive features(columns in your dataframe you do not want to use)\n",
    "\n",
    "excess_name = [col for col in catchment.columns if 'Inter' in col]\n",
    "catchment.drop(labels=excess_name, axis=1, inplace=True)\n",
    "catchment.drop(labels=['Q_flag', 'T_flag'], axis=1, inplace=True)\n",
    "if experiment == 'A':\n",
    "  catchment.drop(labels=['cape', 'swvl4', 'kx', 'cin', 'tcwv', 'rh', 'windspeed', 'EVAP_Roeser', 'DLS'], axis=1, inplace=True)\n",
    "elif experiment == 'B':\n",
    "  catchment.drop(labels=['cape', 'cin', 'kx', 'q', 'rh', 'tcwv', 'windspeed', 'LLS', 'DLS', 'swvl1', 'swvl2', 'swvl3', 'swvl4', ], axis = 1, inplace=True)\n",
    "elif experiment == 'C':\n",
    "  print('Die deutsche Gesellschaft für Mykologie wählte das Judasohr zum Pilz des Jahres 2017.')\n",
    "else:\n",
    "  raise ValueError('No experiment defined')\n",
    "\n",
    "print(catchment_str+' dataset column names '+str(list(catchment)))\n",
    "\n",
    "# Split and then Standardize the data (z-standartization)\n",
    "train, val, test = split_data(start_train, end_train, start_val, end_val, start_test, end_train, catchment)\n",
    "train_scaled, stds, mean = local_standartization(train)\n",
    "val_scaled = scale(val, stds, mean)\n",
    "test_scaled = scale(test, stds, mean)\n",
    "\n",
    "# Save feature column names as string in list\n",
    "features = list(train_scaled)\n",
    "# removes target column from feature list\n",
    "features.remove('Q_'+catchment_str)\n",
    "# save target column name\n",
    "target = 'Q_'+catchment_str\n",
    "# Create datasets including tensors of features and targets\n",
    "#train_set = SequenceDataset(train_scaled, target, features, sequence_length=model_params['sequence_length'])\n",
    "#val_set = SequenceDataset(val_scaled, target, features, sequence_length=model_params['sequence_length'])\n",
    "test_set = SequenceDataset(test_scaled, target, features, sequence_length=model_params['sequence_length'])\n",
    "\n",
    "# delete the first int[sequence_length] from datasets\n",
    "\n",
    "#train_set.X = train_set.X[model_params['sequence_length']:, :]\n",
    "#val_set.X = val_set.X[model_params['sequence_length']:, :]\n",
    "test_set.X = test_set.X[model_params['sequence_length']:, :]\n",
    "#train_set.y = train_set.y[model_params['sequence_length']:, ]\n",
    "#val_set.y = val_set.y[model_params['sequence_length']:, ]\n",
    "test_set.y = test_set.y[model_params['sequence_length']:, ]\n",
    "\n",
    "\n",
    "\n",
    "\n",
    "# Insert datasets into pytorchs own DataLoader class, which automates the batching of the sammples for later use in the actual model\n",
    "#train_loader = DataLoader(train_set, batch_size = model_params['batch_size'], shuffle = True,  drop_last = True)\n",
    "#val_loader = DataLoader(val_set, batch_size=model_params['batch_size'], shuffle = False, drop_last = True)\n",
    "test_loader = DataLoader(test_set, batch_size=model_params['batch_size'], shuffle = False, drop_last = True)\n",
    "\n",
    "\n"
   ]
  },
  {
   "cell_type": "code",
   "execution_count": 9,
   "metadata": {},
   "outputs": [
    {
     "data": {
      "text/plain": [
       "<All keys matched successfully>"
      ]
     },
     "execution_count": 9,
     "metadata": {},
     "output_type": "execute_result"
    }
   ],
   "source": [
    "# Schwebich\n",
    "#load model\n",
    "os.chdir('/pfs/data5/home/kit/stud/updzl/Experiment 1/Best_Performances/'+catchment_str)\n",
    "ann_model = ShallowRegressionLSTM(input_size = len(features),\n",
    "                       hidden_size = model_params[\"hidden_size\"],\n",
    "                       num_layer=1,\n",
    "                       drop_out= model_params[\"drop_out\"]\n",
    "                                 ).to(cuda0)\n",
    "#schwebich_model_A = torch.load(ann_model.state_dict(), '20220509-160643_Schwebich_model_A')\n",
    "ann_model.load_state_dict(torch.load('20220923-094212_Bibeschbach_model_A_s0_Epoch_1', map_location=cuda0  ))"
   ]
  },
  {
   "cell_type": "code",
   "execution_count": 10,
   "metadata": {},
   "outputs": [],
   "source": [
    "ann_model.eval()\n",
    "\n",
    "with torch.no_grad():\n",
    "\n",
    "    output = np.array([])\n",
    "\n",
    "    for batch, _ in test_loader:\n",
    "        y_pred,_  = ann_model(batch) # forward call\n",
    "        new = y_pred.flatten().cpu().detach().numpy()\n",
    "        output = np.append(output, new)\n",
    "        \n",
    "output_rescaled=(output*stds.loc['Q_'+catchment_str])+mean.loc['Q_'+catchment_str]\n",
    "\n"
   ]
  },
  {
   "cell_type": "code",
   "execution_count": 11,
   "metadata": {},
   "outputs": [],
   "source": [
    "df_test = catchment['2004-10-11 16:00:00':end_test]\n",
    "obs=df_test['Q_'+catchment_str].values"
   ]
  },
  {
   "cell_type": "code",
   "execution_count": 12,
   "metadata": {},
   "outputs": [],
   "source": [
    "output_test = output_rescaled[0:len(df_test)]"
   ]
  },
  {
   "cell_type": "code",
   "execution_count": 13,
   "metadata": {},
   "outputs": [
    {
     "data": {
      "text/plain": [
       "0.7204153448551155"
      ]
     },
     "execution_count": 13,
     "metadata": {},
     "output_type": "execute_result"
    }
   ],
   "source": [
    "NSE = get_nse(obs[:], output_test[:])\n",
    "NSE"
   ]
  },
  {
   "cell_type": "code",
   "execution_count": 14,
   "metadata": {},
   "outputs": [],
   "source": [
    "df_result = pd.DataFrame(output_test, columns=['Q_sim'], index=df_test.index)"
   ]
  },
  {
   "cell_type": "code",
   "execution_count": 15,
   "metadata": {},
   "outputs": [],
   "source": [
    "df_result['Q_obs'] = obs"
   ]
  },
  {
   "cell_type": "code",
   "execution_count": 16,
   "metadata": {},
   "outputs": [],
   "source": [
    "### Save results\n",
    "\n",
    "df_result.to_csv('results_best_model_'+catchment_str+'_Experiment_'+experiment)"
   ]
  },
  {
   "cell_type": "code",
   "execution_count": 17,
   "metadata": {},
   "outputs": [
    {
     "data": {
      "text/plain": [
       "[<matplotlib.lines.Line2D at 0x145dd2d06190>]"
      ]
     },
     "execution_count": 17,
     "metadata": {},
     "output_type": "execute_result"
    },
    {
     "data": {
      "image/png": "[encoded data removed]",
      "text/plain": [
       "<Figure size 432x288 with 1 Axes>"
      ]
     },
     "metadata": {},
     "output_type": "display_data"
    }
   ],
   "source": [
    "#### PLOT\n",
    "\n",
    "plt.plot(df_test.index, obs)\n",
    "plt.plot(df_test.index, output_test)"
   ]
  },
  {
   "cell_type": "code",
   "execution_count": 18,
   "metadata": {},
   "outputs": [],
   "source": [
    "sim = output\n",
    "\n",
    "\n",
    "\n",
    "obs=test_scaled['Q_'+catchment_str].values\n",
    "obs = obs[model_params['sequence_length']:(model_params['sequence_length']+len(sim))]\n",
    "#obs = (obs*stds.loc['Q_'+catchment_str])+mean.loc['Q_'+catchment_str]"
   ]
  },
  {
   "cell_type": "code",
   "execution_count": 19,
   "metadata": {},
   "outputs": [
    {
     "data": {
      "text/plain": [
       "[<matplotlib.lines.Line2D at 0x145d41142a90>]"
      ]
     },
     "execution_count": 19,
     "metadata": {},
     "output_type": "execute_result"
    },
    {
     "data": {
      "image/png": "[encoded data removed]",
      "text/plain": [
       "<Figure size 432x288 with 1 Axes>"
      ]
     },
     "metadata": {},
     "output_type": "display_data"
    }
   ],
   "source": [
    "plt.plot(obs[:])\n",
    "plt.plot(sim[:])"
   ]
  },
  {
   "cell_type": "code",
   "execution_count": 20,
   "metadata": {},
   "outputs": [
    {
     "data": {
      "text/plain": [
       "0.7533836796015411"
      ]
     },
     "execution_count": 20,
     "metadata": {},
     "output_type": "execute_result"
    }
   ],
   "source": [
    "NSE = get_nse(obs[:], sim[:])\n",
    "NSE"
   ]
  },
  {
   "cell_type": "code",
   "execution_count": 21,
   "metadata": {},
   "outputs": [
    {
     "data": {
      "text/plain": [
       "[<matplotlib.lines.Line2D at 0x145d42401a90>]"
      ]
     },
     "execution_count": 21,
     "metadata": {},
     "output_type": "execute_result"
    },
    {
     "data": {
      "image/png": "[encoded data removed]",
      "text/plain": [
       "<Figure size 432x288 with 1 Axes>"
      ]
     },
     "metadata": {},
     "output_type": "display_data"
    }
   ],
   "source": [
    "max_sim = np.ones(len(sim))*int(np.amax(sim))\n",
    "plt.scatter(sim, obs, [2])\n",
    "plt.plot(obs, obs)\n",
    "plt.plot(max_sim, obs)\n",
    "\n"
   ]
  },
  {
   "cell_type": "code",
   "execution_count": 22,
   "metadata": {},
   "outputs": [],
   "source": [
    "\n",
    "train_set = SequenceDataset(train_scaled, target, features, sequence_length=model_params['sequence_length'])\n",
    "train_set.X = train_set.X[model_params['sequence_length']:, :]\n",
    "train_set.y = train_set.y[model_params['sequence_length']:, ]\n",
    "train_loader = DataLoader(train_set, batch_size = model_params['batch_size'], shuffle = False,  drop_last = True)\n",
    "\n",
    "\n",
    "\n",
    "\n",
    "ann_model.eval()\n",
    "\n",
    "with torch.no_grad():\n",
    "\n",
    "    output = np.array([])\n",
    "\n",
    "    for batch, _ in train_loader:\n",
    "        y_pred,_  = ann_model(batch) # forward call\n",
    "        new = y_pred.flatten().cpu().detach().numpy()\n",
    "        output = np.append(output, new)\n",
    "        \n",
    "train_output_rescaled=(output*stds.loc['Q_'+catchment_str])+mean.loc['Q_'+catchment_str]\n",
    "train_obs_df = train[512:len(train_output_rescaled)+512]\n",
    "train_obs = train_obs_df.loc[:, 'Q_'+catchment_str]\n",
    "\n",
    "NSE = get_nse(train_obs[:], train_output_rescaled[:])\n",
    "NSE\n",
    "df_res_train = pd.DataFrame(train_output_rescaled, columns=['Q_train'], index=train_obs_df.index)\n",
    "train_o = train_obs.values\n",
    "df_res_train['Q_obs'] = train_o\n",
    "df_res_train.to_csv('results_train_best_model_'+catchment_str+'_Experiment_'+experiment)"
   ]
  },
  {
   "cell_type": "code",
   "execution_count": 23,
   "metadata": {},
   "outputs": [
    {
     "data": {
      "text/html": [
       "<div>\n",
       "<style scoped>\n",
       "    .dataframe tbody tr th:only-of-type {\n",
       "        vertical-align: middle;\n",
       "    }\n",
       "\n",
       "    .dataframe tbody tr th {\n",
       "        vertical-align: top;\n",
       "    }\n",
       "\n",
       "    .dataframe thead th {\n",
       "        text-align: right;\n",
       "    }\n",
       "</style>\n",
       "<table border=\"1\" class=\"dataframe\">\n",
       "  <thead>\n",
       "    <tr style=\"text-align: right;\">\n",
       "      <th></th>\n",
       "      <th>Q_train</th>\n",
       "      <th>Q_obs</th>\n",
       "    </tr>\n",
       "    <tr>\n",
       "      <th>Date</th>\n",
       "      <th></th>\n",
       "      <th></th>\n",
       "    </tr>\n",
       "  </thead>\n",
       "  <tbody>\n",
       "    <tr>\n",
       "      <th>2010-10-11 16:00:00</th>\n",
       "      <td>0.001689</td>\n",
       "      <td>0.001562</td>\n",
       "    </tr>\n",
       "    <tr>\n",
       "      <th>2010-10-11 16:30:00</th>\n",
       "      <td>0.001722</td>\n",
       "      <td>0.001562</td>\n",
       "    </tr>\n",
       "    <tr>\n",
       "      <th>2010-10-11 17:00:00</th>\n",
       "      <td>0.001748</td>\n",
       "      <td>0.001562</td>\n",
       "    </tr>\n",
       "    <tr>\n",
       "      <th>2010-10-11 17:30:00</th>\n",
       "      <td>0.001772</td>\n",
       "      <td>0.001562</td>\n",
       "    </tr>\n",
       "    <tr>\n",
       "      <th>2010-10-11 18:00:00</th>\n",
       "      <td>0.001771</td>\n",
       "      <td>0.001562</td>\n",
       "    </tr>\n",
       "    <tr>\n",
       "      <th>...</th>\n",
       "      <td>...</td>\n",
       "      <td>...</td>\n",
       "    </tr>\n",
       "    <tr>\n",
       "      <th>2021-08-23 00:30:00</th>\n",
       "      <td>0.004910</td>\n",
       "      <td>0.000577</td>\n",
       "    </tr>\n",
       "    <tr>\n",
       "      <th>2021-08-23 01:00:00</th>\n",
       "      <td>0.004841</td>\n",
       "      <td>0.000577</td>\n",
       "    </tr>\n",
       "    <tr>\n",
       "      <th>2021-08-23 01:30:00</th>\n",
       "      <td>0.005065</td>\n",
       "      <td>0.000543</td>\n",
       "    </tr>\n",
       "    <tr>\n",
       "      <th>2021-08-23 02:00:00</th>\n",
       "      <td>0.004808</td>\n",
       "      <td>0.000492</td>\n",
       "    </tr>\n",
       "    <tr>\n",
       "      <th>2021-08-23 02:30:00</th>\n",
       "      <td>0.005009</td>\n",
       "      <td>0.000492</td>\n",
       "    </tr>\n",
       "  </tbody>\n",
       "</table>\n",
       "<p>190464 rows × 2 columns</p>\n",
       "</div>"
      ],
      "text/plain": [
       "                      Q_train     Q_obs\n",
       "Date                                   \n",
       "2010-10-11 16:00:00  0.001689  0.001562\n",
       "2010-10-11 16:30:00  0.001722  0.001562\n",
       "2010-10-11 17:00:00  0.001748  0.001562\n",
       "2010-10-11 17:30:00  0.001772  0.001562\n",
       "2010-10-11 18:00:00  0.001771  0.001562\n",
       "...                       ...       ...\n",
       "2021-08-23 00:30:00  0.004910  0.000577\n",
       "2021-08-23 01:00:00  0.004841  0.000577\n",
       "2021-08-23 01:30:00  0.005065  0.000543\n",
       "2021-08-23 02:00:00  0.004808  0.000492\n",
       "2021-08-23 02:30:00  0.005009  0.000492\n",
       "\n",
       "[190464 rows x 2 columns]"
      ]
     },
     "execution_count": 23,
     "metadata": {},
     "output_type": "execute_result"
    }
   ],
   "source": [
    "df_res_train"
   ]
  },
  {
   "cell_type": "code",
   "execution_count": null,
   "metadata": {},
   "outputs": [],
   "source": []
  }
 ],
 "metadata": {
  "colab": {
   "authorship_tag": "ABX9TyN0WZVAdbElGNnyiMWDPkdz",
   "name": "rainfall_runoff_lstm_pytorch_ERA5_1_1.ipynb",
   "provenance": []
  },
  "kernelspec": {
   "display_name": "Python 3 (ipykernel)",
   "language": "python",
   "name": "python3"
  },
  "language_info": {
   "codemirror_mode": {
    "name": "ipython",
    "version": 3
   },
   "file_extension": ".py",
   "mimetype": "text/x-python",
   "name": "python",
   "nbconvert_exporter": "python",
   "pygments_lexer": "ipython3",
   "version": "3.8.6"
  }
 },
 "nbformat": 4,
 "nbformat_minor": 4
}
